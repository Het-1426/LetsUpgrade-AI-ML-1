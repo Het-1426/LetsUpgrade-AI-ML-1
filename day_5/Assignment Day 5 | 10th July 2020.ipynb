{
 "cells": [
  {
   "cell_type": "markdown",
   "metadata": {},
   "source": [
    "# Assignment Day 5 | 10th July 2020"
   ]
  },
  {
   "cell_type": "markdown",
   "metadata": {},
   "source": [
    "## 1. Write a Python program to find the first 20 non-even prime natural numbers."
   ]
  },
  {
   "cell_type": "code",
   "execution_count": 1,
   "metadata": {},
   "outputs": [],
   "source": [
    "def is_prime(number):\n",
    "    if number == 0 or number == 1:\n",
    "        return False\n",
    "    \n",
    "    for i in range(2,number):\n",
    "        if number % i  == 0:\n",
    "            return False\n",
    "    return True"
   ]
  },
  {
   "cell_type": "code",
   "execution_count": 2,
   "metadata": {},
   "outputs": [],
   "source": [
    "def is_odd(number):\n",
    "    return bool(number%2)"
   ]
  },
  {
   "cell_type": "code",
   "execution_count": 3,
   "metadata": {},
   "outputs": [
    {
     "name": "stdout",
     "output_type": "stream",
     "text": [
      "3\t5\t7\t11\t13\t17\t19\t23\t29\t31\t37\t41\t43\t47\t53\t59\t61\t67\t71\t73\t"
     ]
    }
   ],
   "source": [
    "first_number = 0\n",
    "count = 0 \n",
    "while count<20:\n",
    "    if is_prime(first_number) and is_odd(first_number):\n",
    "        print(first_number,end='\\t')\n",
    "        count = count + 1\n",
    "    first_number = first_number + 1"
   ]
  },
  {
   "cell_type": "markdown",
   "metadata": {},
   "source": [
    "## 2. Write a Python program to implement 15 functions of string."
   ]
  },
  {
   "cell_type": "code",
   "execution_count": 4,
   "metadata": {},
   "outputs": [
    {
     "name": "stdout",
     "output_type": "stream",
     "text": [
      "amritesh\n",
      "AMRITESH\n",
      "Amritesh\n",
      "['Amr', 'tesh']\n",
      "b'\\xff\\xfeA\\x00m\\x00r\\x00i\\x00t\\x00e\\x00s\\x00h\\x00'\n",
      "1\n",
      "4\n",
      "6\n",
      "True\n",
      "True\n",
      ">Amritesh>Amritesh>\n",
      "Amrigpesh\n",
      "0000000Amritesh\n",
      "True\n",
      "False\n"
     ]
    }
   ],
   "source": [
    "a = 'Amritesh'\n",
    "print(a.lower())\n",
    "print(a.upper())\n",
    "print(a.capitalize())\n",
    "print(a.split('i'))\n",
    "print(a.encode(encoding='utf-16'))\n",
    "print(a.count('ri'))\n",
    "print(a.index('t'))\n",
    "print(a.find('s'))\n",
    "print(a.isalnum())\n",
    "print(a.isascii())\n",
    "print(a.join('>>>'))\n",
    "print(a.replace('te','gpe'))\n",
    "print(a.zfill(15))\n",
    "print(a.isidentifier())\n",
    "print(a.endswith('hi'))"
   ]
  },
  {
   "cell_type": "markdown",
   "metadata": {},
   "source": [
    "## 3. Write a Python program to check if the given string is a Palindrome or Anagram or None of them. Display the message accordingly to the user."
   ]
  },
  {
   "cell_type": "code",
   "execution_count": 5,
   "metadata": {},
   "outputs": [],
   "source": [
    "def is_palindrome(first_string, second_string):\n",
    "    first_string = first_string.lower()\n",
    "    second_string = second_string.lower()\n",
    "    \n",
    "    return first_string == second_string[::-1]\n",
    "# is_palindrome('string','gnirtS')"
   ]
  },
  {
   "cell_type": "code",
   "execution_count": 6,
   "metadata": {},
   "outputs": [],
   "source": [
    "# Method 1\n",
    "def is_anagram_method1(first_string, second_string):\n",
    "    first_string = first_string.lower()\n",
    "    second_string = second_string.lower()\n",
    "    \n",
    "    if len(first_string) != len(second_string):\n",
    "        return False\n",
    "    \n",
    "    for i in first_string:\n",
    "        get_index = second_string.find(i)\n",
    "        \n",
    "        if get_index == -1:\n",
    "            return False        \n",
    "        second_string = second_string.replace(i,'',1)\n",
    "        \n",
    "    return True\n",
    "    \n",
    "# is_anagram('aalu','luua')"
   ]
  },
  {
   "cell_type": "code",
   "execution_count": 7,
   "metadata": {},
   "outputs": [],
   "source": [
    "# Method 2\n",
    "def is_anagram_method2(first_string, second_string):\n",
    "    first_string = first_string.lower()\n",
    "    second_string = second_string.lower()\n",
    "    \n",
    "    if len(first_string) != len(second_string):\n",
    "        return False\n",
    "    \n",
    "    first_string = sorted(first_string)\n",
    "    second_string = sorted(second_string)\n",
    "\n",
    "    return first_string == second_string\n",
    "    \n",
    "# is_anagram('aalu','laua')"
   ]
  },
  {
   "cell_type": "code",
   "execution_count": 8,
   "metadata": {},
   "outputs": [],
   "source": [
    "def check_anagram_palindrom():\n",
    "    first_string = input('Enter First String: ')\n",
    "    second_string = input('Enter First String: ')\n",
    "\n",
    "    palindrome = is_palindrome(first_string,second_string)\n",
    "    anagram_method1 = is_anagram_method1(first_string,second_string)\n",
    "    anagram_method2 = is_anagram_method2(first_string,second_string)\n",
    "\n",
    "    if palindrome:\n",
    "        print('Palindrome')\n",
    "    if anagram_method1:\n",
    "        print('Anagram From Method 1')\n",
    "    if anagram_method2:\n",
    "        print('Anagram From Method 2')\n",
    "    if(not(palindrome or anagram_method1 or anagram_method1)):\n",
    "        print('None')"
   ]
  },
  {
   "cell_type": "code",
   "execution_count": 13,
   "metadata": {},
   "outputs": [
    {
     "name": "stdout",
     "output_type": "stream",
     "text": [
      "Enter First String: kull\n",
      "Enter First String: luuk\n",
      "None\n"
     ]
    }
   ],
   "source": [
    "check_anagram_palindrom()"
   ]
  },
  {
   "cell_type": "code",
   "execution_count": 10,
   "metadata": {},
   "outputs": [
    {
     "name": "stdout",
     "output_type": "stream",
     "text": [
      "Enter First String: Rahul\n",
      "Enter First String: luhar\n",
      "Palindrome\n",
      "Anagram From Method 1\n",
      "Anagram From Method 2\n"
     ]
    }
   ],
   "source": [
    "check_anagram_palindrom()"
   ]
  },
  {
   "cell_type": "code",
   "execution_count": 11,
   "metadata": {},
   "outputs": [
    {
     "name": "stdout",
     "output_type": "stream",
     "text": [
      "Enter First String: risk\n",
      "Enter First String: sikr\n",
      "Anagram From Method 1\n",
      "Anagram From Method 2\n"
     ]
    }
   ],
   "source": [
    "check_anagram_palindrom()"
   ]
  },
  {
   "cell_type": "markdown",
   "metadata": {},
   "source": [
    "## 4. Write a Python's user defined function that removes all the additional characters from the string and converts it finally to lower case using built-in lower(). \n",
    "```\n",
    "eg: If the string is \"Dr. Darshan Ingle @AI-ML Trainer\", then the output be \"drdarshaningleaimltrainer\"\n",
    "```"
   ]
  },
  {
   "cell_type": "code",
   "execution_count": 12,
   "metadata": {},
   "outputs": [
    {
     "data": {
      "text/plain": [
       "'drdarshaningleaimltrainer'"
      ]
     },
     "execution_count": 12,
     "metadata": {},
     "output_type": "execute_result"
    }
   ],
   "source": [
    "def convert(input_string):\n",
    "    additional_char_list = [\n",
    "        '!','@','#','$','%','^','&','*','(',')','-','_','+','=','{','}','[',']','\"',\n",
    "        ';',':','\\'','>','>','.',',','?','/','`','~','|','\\\\',' '\n",
    "    ]\n",
    "    for one_symbole in additional_char_list:\n",
    "        input_string = input_string.replace(one_symbole,'')\n",
    "    input_string = input_string.lower()\n",
    "\n",
    "    return input_string\n",
    "    \n",
    "convert('Dr. Darshan Ingle @AI-ML Trainer')"
   ]
  }
 ],
 "metadata": {
  "kernelspec": {
   "display_name": "Python 3",
   "language": "python",
   "name": "python3"
  },
  "language_info": {
   "codemirror_mode": {
    "name": "ipython",
    "version": 3
   },
   "file_extension": ".py",
   "mimetype": "text/x-python",
   "name": "python",
   "nbconvert_exporter": "python",
   "pygments_lexer": "ipython3",
   "version": "3.7.4"
  }
 },
 "nbformat": 4,
 "nbformat_minor": 2
}
