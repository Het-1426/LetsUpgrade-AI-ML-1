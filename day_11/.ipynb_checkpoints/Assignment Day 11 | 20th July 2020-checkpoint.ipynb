{
 "cells": [
  {
   "cell_type": "code",
   "execution_count": 48,
   "metadata": {
    "ExecuteTime": {
     "end_time": "2020-07-21T05:10:24.894125Z",
     "start_time": "2020-07-21T05:10:24.885896Z"
    }
   },
   "outputs": [],
   "source": [
    "import pandas as pd\n",
    "from scipy.stats import pearsonr\n",
    "import matplotlib.pyplot as plt"
   ]
  },
  {
   "cell_type": "code",
   "execution_count": 49,
   "metadata": {
    "ExecuteTime": {
     "end_time": "2020-07-21T05:10:25.123151Z",
     "start_time": "2020-07-21T05:10:25.076523Z"
    }
   },
   "outputs": [],
   "source": [
    "df = pd.read_csv('general_data.csv')"
   ]
  },
  {
   "cell_type": "markdown",
   "metadata": {},
   "source": [
    "### removing null values"
   ]
  },
  {
   "cell_type": "code",
   "execution_count": 50,
   "metadata": {
    "ExecuteTime": {
     "end_time": "2020-07-21T05:10:25.413908Z",
     "start_time": "2020-07-21T05:10:25.396672Z"
    }
   },
   "outputs": [],
   "source": [
    "df.dropna(inplace=True)"
   ]
  },
  {
   "cell_type": "code",
   "execution_count": 51,
   "metadata": {
    "ExecuteTime": {
     "end_time": "2020-07-21T05:10:25.561866Z",
     "start_time": "2020-07-21T05:10:25.546826Z"
    }
   },
   "outputs": [
    {
     "data": {
      "text/plain": [
       "Age                        0\n",
       "Attrition                  0\n",
       "BusinessTravel             0\n",
       "Department                 0\n",
       "DistanceFromHome           0\n",
       "Education                  0\n",
       "EducationField             0\n",
       "EmployeeCount              0\n",
       "EmployeeID                 0\n",
       "Gender                     0\n",
       "JobLevel                   0\n",
       "JobRole                    0\n",
       "MaritalStatus              0\n",
       "MonthlyIncome              0\n",
       "NumCompaniesWorked         0\n",
       "Over18                     0\n",
       "PercentSalaryHike          0\n",
       "StandardHours              0\n",
       "StockOptionLevel           0\n",
       "TotalWorkingYears          0\n",
       "TrainingTimesLastYear      0\n",
       "YearsAtCompany             0\n",
       "YearsSinceLastPromotion    0\n",
       "YearsWithCurrManager       0\n",
       "dtype: int64"
      ]
     },
     "execution_count": 51,
     "metadata": {},
     "output_type": "execute_result"
    }
   ],
   "source": [
    "df.isnull().sum()"
   ]
  },
  {
   "cell_type": "markdown",
   "metadata": {},
   "source": [
    "### converting all columns to numerical values"
   ]
  },
  {
   "cell_type": "code",
   "execution_count": 52,
   "metadata": {
    "ExecuteTime": {
     "end_time": "2020-07-21T05:10:25.944141Z",
     "start_time": "2020-07-21T05:10:25.903291Z"
    }
   },
   "outputs": [],
   "source": [
    "df = pd.get_dummies(df,drop_first=True)"
   ]
  },
  {
   "cell_type": "code",
   "execution_count": 53,
   "metadata": {
    "ExecuteTime": {
     "end_time": "2020-07-21T05:10:26.342197Z",
     "start_time": "2020-07-21T05:10:26.333913Z"
    }
   },
   "outputs": [
    {
     "data": {
      "text/plain": [
       "['Age',\n",
       " 'DistanceFromHome',\n",
       " 'Education',\n",
       " 'EmployeeCount',\n",
       " 'EmployeeID',\n",
       " 'JobLevel',\n",
       " 'MonthlyIncome',\n",
       " 'NumCompaniesWorked',\n",
       " 'PercentSalaryHike',\n",
       " 'StandardHours',\n",
       " 'StockOptionLevel',\n",
       " 'TotalWorkingYears',\n",
       " 'TrainingTimesLastYear',\n",
       " 'YearsAtCompany',\n",
       " 'YearsSinceLastPromotion',\n",
       " 'YearsWithCurrManager',\n",
       " 'Attrition_Yes',\n",
       " 'BusinessTravel_Travel_Frequently',\n",
       " 'BusinessTravel_Travel_Rarely',\n",
       " 'Department_Research & Development',\n",
       " 'Department_Sales',\n",
       " 'EducationField_Life Sciences',\n",
       " 'EducationField_Marketing',\n",
       " 'EducationField_Medical',\n",
       " 'EducationField_Other',\n",
       " 'EducationField_Technical Degree',\n",
       " 'Gender_Male',\n",
       " 'JobRole_Human Resources',\n",
       " 'JobRole_Laboratory Technician',\n",
       " 'JobRole_Manager',\n",
       " 'JobRole_Manufacturing Director',\n",
       " 'JobRole_Research Director',\n",
       " 'JobRole_Research Scientist',\n",
       " 'JobRole_Sales Executive',\n",
       " 'JobRole_Sales Representative',\n",
       " 'MaritalStatus_Married',\n",
       " 'MaritalStatus_Single']"
      ]
     },
     "execution_count": 53,
     "metadata": {},
     "output_type": "execute_result"
    }
   ],
   "source": [
    "all_columns = list(df.columns)\n",
    "all_columns"
   ]
  },
  {
   "cell_type": "code",
   "execution_count": 56,
   "metadata": {
    "ExecuteTime": {
     "end_time": "2020-07-21T05:10:49.121164Z",
     "start_time": "2020-07-21T05:10:49.112545Z"
    }
   },
   "outputs": [],
   "source": [
    "all_columns.remove('Attrition_Yes')"
   ]
  },
  {
   "cell_type": "code",
   "execution_count": 62,
   "metadata": {
    "ExecuteTime": {
     "end_time": "2020-07-21T05:51:52.371794Z",
     "start_time": "2020-07-21T05:51:52.279668Z"
    },
    "scrolled": false
   },
   "outputs": [
    {
     "name": "stdout",
     "output_type": "stream",
     "text": [
      "Corellation between  Age is: -0.1583986795409671\n",
      "Corellation between  DistanceFromHome is: -0.009448638515156246\n",
      "Corellation between  Education is: -0.017106307050278723\n",
      "Corellation between  EmployeeCount is: nan\n",
      "Corellation between  EmployeeID is: -0.00462054185037951\n",
      "Corellation between  JobLevel is: -0.012381569720790873\n",
      "Corellation between  MonthlyIncome is: -0.03016029380846066\n",
      "Corellation between  NumCompaniesWorked is: 0.042830567244720875\n",
      "Corellation between  PercentSalaryHike is: 0.03315303713546665\n",
      "Corellation between  StandardHours is: nan\n",
      "Corellation between  StockOptionLevel is: -0.008164026684984328\n",
      "Corellation between  TotalWorkingYears is: -0.1696699168472392\n",
      "Corellation between  TrainingTimesLastYear is: -0.04758573693081737\n",
      "Corellation between  YearsAtCompany is: -0.1330026184252154\n",
      "Corellation between  YearsSinceLastPromotion is: -0.03142315056330995\n",
      "Corellation between  YearsWithCurrManager is: -0.15469153690287274\n",
      "Corellation between  BusinessTravel_Travel_Frequently is: 0.11323113896714167\n",
      "Corellation between  BusinessTravel_Travel_Rarely is: -0.04814605215162269\n",
      "Corellation between  Department_Research & Development is: -0.015583440078272181\n",
      "Corellation between  Department_Sales is: -0.017531072920331174\n",
      "Corellation between  EducationField_Life Sciences is: 0.013174583907034396\n",
      "Corellation between  EducationField_Marketing is: -0.0028381116206656802\n",
      "Corellation between  EducationField_Medical is: -0.0011038724466463994\n",
      "Corellation between  EducationField_Other is: -0.02507069748771002\n",
      "Corellation between  EducationField_Technical Degree is: -0.03931785259584586\n",
      "Corellation between  Gender_Male is: 0.018396425194440954\n",
      "Corellation between  JobRole_Human Resources is: -0.0137369256686112\n",
      "Corellation between  JobRole_Laboratory Technician is: 0.0010356204986377597\n",
      "Corellation between  JobRole_Manager is: -0.01725574772714283\n",
      "Corellation between  JobRole_Manufacturing Director is: -0.04393075231490319\n",
      "Corellation between  JobRole_Research Director is: 0.04357883417765999\n",
      "Corellation between  JobRole_Research Scientist is: 0.027547751725029622\n",
      "Corellation between  JobRole_Sales Executive is: 0.012150403280645102\n",
      "Corellation between  JobRole_Sales Representative is: -0.0096536481989664\n",
      "Corellation between  MaritalStatus_Married is: -0.0896265651346784\n",
      "Corellation between  MaritalStatus_Single is: 0.17294165446011903\n"
     ]
    }
   ],
   "source": [
    "for one_column in all_columns:\n",
    "    corr,_ = pearsonr(df['Attrition_Yes'],df[one_column])\n",
    "    print('Corellation between ',one_column,'is:',corr)        "
   ]
  }
 ],
 "metadata": {
  "kernelspec": {
   "display_name": "Python 3",
   "language": "python",
   "name": "python3"
  },
  "language_info": {
   "codemirror_mode": {
    "name": "ipython",
    "version": 3
   },
   "file_extension": ".py",
   "mimetype": "text/x-python",
   "name": "python",
   "nbconvert_exporter": "python",
   "pygments_lexer": "ipython3",
   "version": "3.7.4"
  }
 },
 "nbformat": 4,
 "nbformat_minor": 2
}
